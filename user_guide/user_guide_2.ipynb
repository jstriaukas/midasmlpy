{
 "cells": [
  {
   "cell_type": "markdown",
   "metadata": {},
   "source": [
    "## Import packages used"
   ]
  },
  {
   "cell_type": "code",
   "execution_count": 1,
   "metadata": {},
   "outputs": [],
   "source": [
    "import numpy as np\n",
    "import pandas as pd\n",
    "from datetime import datetime\n",
    "import midasmlpy.date_functions as datef # used to handle different frequencies of data and to create lags\n",
    "from sklearn.model_selection import train_test_split"
   ]
  },
  {
   "cell_type": "code",
   "execution_count": 2,
   "metadata": {},
   "outputs": [],
   "source": [
    "from midasmlpy.src.sparseglf90 import sparsegllog_module"
   ]
  },
  {
   "cell_type": "markdown",
   "metadata": {},
   "source": [
    "## Load data"
   ]
  },
  {
   "cell_type": "markdown",
   "metadata": {},
   "source": [
    "Load data from excel"
   ]
  },
  {
   "cell_type": "code",
   "execution_count": 3,
   "metadata": {},
   "outputs": [],
   "source": [
    "import os\n",
    "# load data from xlsx files and create a dataframe\n",
    "\n",
    "Predictors = pd.read_excel(os.path.abspath('predictors-monthly.xlsx')).to_numpy()\n",
    "Target = pd.read_excel(os.path.abspath('gdp-quarterly.xlsx')).to_numpy()"
   ]
  },
  {
   "cell_type": "markdown",
   "metadata": {},
   "source": [
    "Split data into dates and data tables"
   ]
  },
  {
   "cell_type": "code",
   "execution_count": 4,
   "metadata": {},
   "outputs": [],
   "source": [
    "# Y data and X and Y dates can also be defined as they are the same for all iterations\n",
    "Y_date = Target[:,0]\n",
    "Y = Target[:,1]\n",
    "X_date = Predictors[:,0]\n",
    "X = Predictors[:,1:]"
   ]
  },
  {
   "cell_type": "markdown",
   "metadata": {},
   "source": [
    "## Transform data using functions from data_functions"
   ]
  },
  {
   "cell_type": "markdown",
   "metadata": {},
   "source": [
    "Define variables ued in transformation"
   ]
  },
  {
   "cell_type": "code",
   "execution_count": 5,
   "metadata": {},
   "outputs": [],
   "source": [
    "# Lag variables\n",
    "x_lags = 3\n",
    "y_lags = 0\n",
    "horizon = 0\n",
    "\n",
    "# Legendre matrix\n",
    "degree = 4 # 3 degrees + polynomial 0"
   ]
  },
  {
   "cell_type": "markdown",
   "metadata": {},
   "source": [
    "Call data transformation function"
   ]
  },
  {
   "cell_type": "code",
   "execution_count": 6,
   "metadata": {},
   "outputs": [],
   "source": [
    "transformed_data = datef.data_transform(Y, Y_date, X, X_date, x_lags, y_lags, horizon, degree=degree, standardize = True)"
   ]
  },
  {
   "cell_type": "code",
   "execution_count": 7,
   "metadata": {},
   "outputs": [],
   "source": [
    "X = transformed_data['X_tilde']\n",
    "y = transformed_data['Y']\n",
    "\n",
    "# Split x and y into a 80/20 train test split\n",
    "X_train, X_test, y_train, y_test = train_test_split(X, y, test_size=0.20, random_state=42)"
   ]
  },
  {
   "cell_type": "markdown",
   "metadata": {},
   "source": [
    "## sgLasso"
   ]
  },
  {
   "cell_type": "code",
   "execution_count": 8,
   "metadata": {},
   "outputs": [],
   "source": [
    "from midasmlpy.sparse_group_lasso import *\n",
    "\n",
    "# Call the function\n",
    "model2 = best_model(x=X_train, y=y_train, group_size=degree, family='gaussian', nlam=50, pmax=122, intr=True,\n",
    "                    k_folds=2, disp_flag=False, alpha_values=3, alpha=None)\n",
    "\n",
    "\n",
    "# model2 = best_model(x = x_train, y = y_train, group_size = degree, family = 'gaussian', nlam = 100, pmax = 122, intr = False, k_folds = 3, disp_flag = True, alpha_values = 11, alpha = None)"
   ]
  },
  {
   "cell_type": "code",
   "execution_count": null,
   "metadata": {},
   "outputs": [],
   "source": [
    "model2['best_performance']"
   ]
  },
  {
   "cell_type": "code",
   "execution_count": null,
   "metadata": {},
   "outputs": [],
   "source": [
    "x = x_train\n",
    "y = y_train\n",
    "group_size = degree\n",
    "family = 'gaussian'\n",
    "nlam = 100\n",
    "pmax = 122\n",
    "intr = False\n",
    "k_folds = 3\n",
    "disp_flag = True\n",
    "alpha_values = 11\n",
    "alpha = None\n",
    "alsparse = 0.5"
   ]
  },
  {
   "cell_type": "code",
   "execution_count": null,
   "metadata": {},
   "outputs": [],
   "source": [
    "# Find model nlam number of models\n",
    "b0, beta, alam, npass, jerr, mse = sgLASSO_estimation(x, y, group_size, alsparse,family, pmax, intr)\n",
    "\n",
    "# Find mean performance for each lambda\n",
    "# Split the data into k_folds\n",
    "if family == 'binomial':\n",
    "    kf = StratifiedKFold(n_splits=k_folds, shuffle=True, random_state=42)\n",
    "if family == 'gaussian':   \n",
    "    kf = KFold(n_splits=k_folds, shuffle=True, random_state=42)\n",
    "\n",
    "# initialize performance list\n",
    "performance = []\n",
    "for train_index, test_index in kf.split(x,y):\n",
    "    # Based on the split, create the training and test data for this fold\n",
    "    x_train, x_test = x[train_index], x[test_index]\n",
    "    y_train, y_test = y[train_index], y[test_index]\n",
    "    # Estimate the model on the training data\n",
    "    b0test, betatest, alam, npass, jerr, msetrain = sgLASSO_estimation(x_train, y_train, group_size, alsparse, family, pmax = pmax, intr = intr, ulam = alam)\n",
    "    if family == 'gaussian':\n",
    "        performance.append(evaluate_gaussian(x_test, y_test, b0test, betatest, intr=False, eval='mse'))\n",
    "    if family == 'binomial':\n",
    "        performance.append(evaluate_binomials(x_test, y_test, b0test, betatest, intr=False, eval='auc', threshold=0.5))\n",
    "\n",
    "performance = np.array(performance)\n",
    "mean_performance = np.mean(performance, axis=0)\n",
    "if family == 'binomial':\n",
    "    best_lambda = np.argmax(mean_performance)\n",
    "if family == 'gaussian':\n",
    "    best_lambda = np.argmin(mean_performance)"
   ]
  },
  {
   "cell_type": "code",
   "execution_count": null,
   "metadata": {},
   "outputs": [
    {
     "data": {
      "text/plain": [
       "array([15.72073806, 15.68469278, 15.49494481, 15.32664924, 15.1753788 ,\n",
       "       15.0394381 , 14.91728718, 14.79831989, 14.69161439, 14.58669592,\n",
       "       14.4925171 , 14.40975478, 14.32792115, 14.23311733, 14.0924809 ,\n",
       "       13.97235306, 13.86846429, 13.77427229, 13.6950444 , 13.62711568,\n",
       "       13.57304908, 13.52009265, 13.45608846, 13.37643942, 13.3041933 ,\n",
       "       13.24390963, 13.20272572, 13.17317758, 13.16261396, 13.16207891,\n",
       "       13.15776153, 13.15411543, 13.15249136, 13.13512304, 13.11654678,\n",
       "       13.09464479, 13.05082401, 12.98869776, 12.91041804, 12.84006636,\n",
       "       12.77987338, 12.7202505 , 12.6619418 , 12.61368418, 12.58416023,\n",
       "       12.56948842, 12.58089292, 12.60514016, 12.64270585, 12.68403573,\n",
       "       12.74605675, 12.81651275, 12.9162938 , 13.02654741, 13.14018596,\n",
       "       13.24087544, 13.3647866 , 13.50583955, 13.65282761, 13.81935746,\n",
       "       13.99596268, 14.17420344, 14.36136385, 14.54756812, 14.71971168,\n",
       "       14.88544037, 15.07012714, 15.26097823, 15.45872708, 15.66306066,\n",
       "       15.85485989, 16.02871261, 16.21246367, 16.40603603, 16.63416001,\n",
       "       16.87099541, 17.12980148, 17.39294038, 17.66166373, 17.93438411,\n",
       "       18.20711402, 18.47746623, 18.74020563, 19.00437259, 19.25848625,\n",
       "       19.50350408, 19.73735056, 19.96218899, 20.18471506, 20.39528205,\n",
       "       20.58894653, 20.78371767, 20.9737602 , 21.15971725, 21.33795602,\n",
       "       21.52365682, 21.7117016 , 21.9017875 , 22.09304138, 22.28175701])"
      ]
     },
     "execution_count": 61,
     "metadata": {},
     "output_type": "execute_result"
    }
   ],
   "source": [
    "mean_performance"
   ]
  },
  {
   "cell_type": "code",
   "execution_count": null,
   "metadata": {},
   "outputs": [
    {
     "data": {
      "text/plain": [
       "12.569488420636413"
      ]
     },
     "execution_count": 65,
     "metadata": {},
     "output_type": "execute_result"
    }
   ],
   "source": [
    "mean_performance[best_lambda]"
   ]
  },
  {
   "cell_type": "code",
   "execution_count": null,
   "metadata": {},
   "outputs": [
    {
     "data": {
      "text/plain": [
       "45"
      ]
     },
     "execution_count": 64,
     "metadata": {},
     "output_type": "execute_result"
    }
   ],
   "source": [
    "np.argmin(mean_performance)"
   ]
  },
  {
   "cell_type": "code",
   "execution_count": null,
   "metadata": {},
   "outputs": [],
   "source": [
    "x = transformed_data['X_tilde']\n",
    "y = transformed_data['Y']\n",
    "\n",
    "# # Split x and y into a 80/20 train test split\n",
    "train_size = int(0.8*x.shape[0])\n",
    "x_train, x_test = x[:train_size], x[train_size:]\n",
    "y_train, y_test = y[:train_size], y[train_size:]"
   ]
  },
  {
   "cell_type": "code",
   "execution_count": null,
   "metadata": {},
   "outputs": [],
   "source": [
    "b0, beta, alam, npass, jerr, mse = sgLASSO_estimation(x_train, y_train, group_size, alsparse,family, pmax, intr)\n",
    "evaluation_scores = [0] * len(b0)  # this will store evaluation scores\n",
    "for l in range(len(b0)):\n",
    "    predictions = np.dot(x_test, beta[:,l]) + b0[l]\n",
    "    evaluation_scores[l] = mean_squared_error(y_test, predictions)\n"
   ]
  },
  {
   "cell_type": "code",
   "execution_count": null,
   "metadata": {},
   "outputs": [
    {
     "data": {
      "text/plain": [
       "[66.67973619271427,\n",
       " 66.66931066055061,\n",
       " 66.59851725606049,\n",
       " 66.5317382351875,\n",
       " 66.46871618002568,\n",
       " 66.40920931545486,\n",
       " 66.3529970300571,\n",
       " 66.29987845217595,\n",
       " 66.24967026451827,\n",
       " 66.20220621963709,\n",
       " 66.15733641090557,\n",
       " 66.1149261202311,\n",
       " 66.07485511895634,\n",
       " 66.03701712057271,\n",
       " 66.00131938223261,\n",
       " 65.95432307928232,\n",
       " 65.902637478755,\n",
       " 65.86062823728464,\n",
       " 65.81928510611839,\n",
       " 65.77666324237987,\n",
       " 65.72177092426341,\n",
       " 65.71595239753776,\n",
       " 65.74122524773539,\n",
       " 65.76844263013173,\n",
       " 65.71892815299486,\n",
       " 65.67069136843438,\n",
       " 65.63721084185885,\n",
       " 65.61596415275122,\n",
       " 65.64115886486319,\n",
       " 65.67454284698647,\n",
       " 65.82231958955516,\n",
       " 66.00603189368738,\n",
       " 66.15102225346607,\n",
       " 66.25443014565182,\n",
       " 66.32635088372936,\n",
       " 66.41786136425802,\n",
       " 66.41424197901995,\n",
       " 66.39330802493555,\n",
       " 66.43509613506544,\n",
       " 66.5046442677282,\n",
       " 66.58454308107342,\n",
       " 66.66999263480321,\n",
       " 66.75863384605294,\n",
       " 66.851708892422,\n",
       " 67.00356943408615,\n",
       " 67.19962874767405,\n",
       " 67.40932367352032,\n",
       " 67.64931674004487,\n",
       " 67.91035460480109,\n",
       " 68.18692489683862,\n",
       " 68.46569275046427,\n",
       " 68.75020797181136,\n",
       " 68.8296770129149,\n",
       " 68.91734680402662,\n",
       " 69.06425107673695,\n",
       " 69.23496996457142,\n",
       " 69.3935989889704,\n",
       " 69.55412723900638,\n",
       " 69.6990617092438,\n",
       " 69.83237130799999,\n",
       " 69.9707686492997,\n",
       " 70.11629534350983,\n",
       " 70.27244263104468,\n",
       " 70.49272886609931,\n",
       " 70.83186820474403,\n",
       " 71.18766989162563,\n",
       " 71.54240074127942,\n",
       " 71.8626300161896,\n",
       " 72.14163622918255,\n",
       " 72.42509460089889,\n",
       " 72.75676568251794,\n",
       " 73.03831898291388,\n",
       " 73.33315825311918,\n",
       " 73.64904733820829,\n",
       " 74.0088373221701,\n",
       " 74.37771647205665,\n",
       " 74.75674444698893,\n",
       " 75.12424268075381,\n",
       " 75.5013691969923,\n",
       " 75.88414878850769,\n",
       " 76.26145924437725,\n",
       " 76.63743812985047,\n",
       " 77.01678011153976,\n",
       " 77.39195224958507,\n",
       " 77.68666165116912,\n",
       " 77.92106997207135,\n",
       " 78.09982665940966,\n",
       " 78.2654782150305,\n",
       " 78.41815780068755,\n",
       " 78.56527635653057,\n",
       " 78.74469498700704,\n",
       " 78.92863316318248,\n",
       " 79.01516461546402,\n",
       " 78.98704616148066,\n",
       " 78.83775447607631,\n",
       " 78.77523114769086,\n",
       " 78.78292626714425,\n",
       " 78.75708509228757,\n",
       " 78.74567407048067,\n",
       " 78.72430972858643]"
      ]
     },
     "execution_count": 26,
     "metadata": {},
     "output_type": "execute_result"
    }
   ],
   "source": [
    "evaluation_scores"
   ]
  },
  {
   "cell_type": "code",
   "execution_count": null,
   "metadata": {},
   "outputs": [
    {
     "data": {
      "text/html": [
       "<div>\n",
       "<style scoped>\n",
       "    .dataframe tbody tr th:only-of-type {\n",
       "        vertical-align: middle;\n",
       "    }\n",
       "\n",
       "    .dataframe tbody tr th {\n",
       "        vertical-align: top;\n",
       "    }\n",
       "\n",
       "    .dataframe thead th {\n",
       "        text-align: right;\n",
       "    }\n",
       "</style>\n",
       "<table border=\"1\" class=\"dataframe\">\n",
       "  <thead>\n",
       "    <tr style=\"text-align: right;\">\n",
       "      <th></th>\n",
       "      <th>0</th>\n",
       "    </tr>\n",
       "  </thead>\n",
       "  <tbody>\n",
       "    <tr>\n",
       "      <th>3.58582</th>\n",
       "      <td>1.033435</td>\n",
       "    </tr>\n",
       "    <tr>\n",
       "      <th>2.46998</th>\n",
       "      <td>5.012366</td>\n",
       "    </tr>\n",
       "    <tr>\n",
       "      <th>1.59778</th>\n",
       "      <td>2.844964</td>\n",
       "    </tr>\n",
       "    <tr>\n",
       "      <th>0.73724</th>\n",
       "      <td>6.968606</td>\n",
       "    </tr>\n",
       "    <tr>\n",
       "      <th>2.31139</th>\n",
       "      <td>10.076522</td>\n",
       "    </tr>\n",
       "    <tr>\n",
       "      <th>1.28244</th>\n",
       "      <td>5.805969</td>\n",
       "    </tr>\n",
       "    <tr>\n",
       "      <th>2.82754</th>\n",
       "      <td>5.754215</td>\n",
       "    </tr>\n",
       "    <tr>\n",
       "      <th>2.21107</th>\n",
       "      <td>3.512108</td>\n",
       "    </tr>\n",
       "    <tr>\n",
       "      <th>1.94283</th>\n",
       "      <td>4.712126</td>\n",
       "    </tr>\n",
       "    <tr>\n",
       "      <th>2.23324</th>\n",
       "      <td>7.100055</td>\n",
       "    </tr>\n",
       "    <tr>\n",
       "      <th>3.14173</th>\n",
       "      <td>-0.163556</td>\n",
       "    </tr>\n",
       "    <tr>\n",
       "      <th>4.48297</th>\n",
       "      <td>3.273559</td>\n",
       "    </tr>\n",
       "    <tr>\n",
       "      <th>3.24048</th>\n",
       "      <td>-3.609681</td>\n",
       "    </tr>\n",
       "    <tr>\n",
       "      <th>2.11768</th>\n",
       "      <td>-1.737373</td>\n",
       "    </tr>\n",
       "    <tr>\n",
       "      <th>2.48704</th>\n",
       "      <td>-1.361330</td>\n",
       "    </tr>\n",
       "    <tr>\n",
       "      <th>0.56618</th>\n",
       "      <td>-0.597880</td>\n",
       "    </tr>\n",
       "    <tr>\n",
       "      <th>2.16653</th>\n",
       "      <td>1.177792</td>\n",
       "    </tr>\n",
       "    <tr>\n",
       "      <th>3.30498</th>\n",
       "      <td>-0.309984</td>\n",
       "    </tr>\n",
       "    <tr>\n",
       "      <th>4.50326</th>\n",
       "      <td>0.971633</td>\n",
       "    </tr>\n",
       "    <tr>\n",
       "      <th>2.55708</th>\n",
       "      <td>5.426327</td>\n",
       "    </tr>\n",
       "    <tr>\n",
       "      <th>-5.48895</th>\n",
       "      <td>2.510756</td>\n",
       "    </tr>\n",
       "    <tr>\n",
       "      <th>-32.87910</th>\n",
       "      <td>2.898383</td>\n",
       "    </tr>\n",
       "    <tr>\n",
       "      <th>29.89166</th>\n",
       "      <td>0.008153</td>\n",
       "    </tr>\n",
       "    <tr>\n",
       "      <th>4.11961</th>\n",
       "      <td>2.684946</td>\n",
       "    </tr>\n",
       "    <tr>\n",
       "      <th>5.10931</th>\n",
       "      <td>1.183741</td>\n",
       "    </tr>\n",
       "    <tr>\n",
       "      <th>6.03326</th>\n",
       "      <td>5.224906</td>\n",
       "    </tr>\n",
       "    <tr>\n",
       "      <th>3.24430</th>\n",
       "      <td>1.680657</td>\n",
       "    </tr>\n",
       "    <tr>\n",
       "      <th>6.73015</th>\n",
       "      <td>3.293399</td>\n",
       "    </tr>\n",
       "    <tr>\n",
       "      <th>-1.99569</th>\n",
       "      <td>0.141799</td>\n",
       "    </tr>\n",
       "    <tr>\n",
       "      <th>-0.56549</th>\n",
       "      <td>5.809787</td>\n",
       "    </tr>\n",
       "    <tr>\n",
       "      <th>2.62584</th>\n",
       "      <td>-2.841674</td>\n",
       "    </tr>\n",
       "    <tr>\n",
       "      <th>2.53365</th>\n",
       "      <td>-0.770768</td>\n",
       "    </tr>\n",
       "    <tr>\n",
       "      <th>2.21935</th>\n",
       "      <td>-2.649608</td>\n",
       "    </tr>\n",
       "    <tr>\n",
       "      <th>2.03928</th>\n",
       "      <td>8.018051</td>\n",
       "    </tr>\n",
       "    <tr>\n",
       "      <th>4.74720</th>\n",
       "      <td>-1.547340</td>\n",
       "    </tr>\n",
       "  </tbody>\n",
       "</table>\n",
       "</div>"
      ],
      "text/plain": [
       "                   0\n",
       " 3.58582    1.033435\n",
       " 2.46998    5.012366\n",
       " 1.59778    2.844964\n",
       " 0.73724    6.968606\n",
       " 2.31139   10.076522\n",
       " 1.28244    5.805969\n",
       " 2.82754    5.754215\n",
       " 2.21107    3.512108\n",
       " 1.94283    4.712126\n",
       " 2.23324    7.100055\n",
       " 3.14173   -0.163556\n",
       " 4.48297    3.273559\n",
       " 3.24048   -3.609681\n",
       " 2.11768   -1.737373\n",
       " 2.48704   -1.361330\n",
       " 0.56618   -0.597880\n",
       " 2.16653    1.177792\n",
       " 3.30498   -0.309984\n",
       " 4.50326    0.971633\n",
       " 2.55708    5.426327\n",
       "-5.48895    2.510756\n",
       "-32.87910   2.898383\n",
       " 29.89166   0.008153\n",
       " 4.11961    2.684946\n",
       " 5.10931    1.183741\n",
       " 6.03326    5.224906\n",
       " 3.24430    1.680657\n",
       " 6.73015    3.293399\n",
       "-1.99569    0.141799\n",
       "-0.56549    5.809787\n",
       " 2.62584   -2.841674\n",
       " 2.53365   -0.770768\n",
       " 2.21935   -2.649608\n",
       " 2.03928    8.018051\n",
       " 4.74720   -1.547340"
      ]
     },
     "execution_count": 24,
     "metadata": {},
     "output_type": "execute_result"
    }
   ],
   "source": [
    "pd.DataFrame(predictions, y_test)"
   ]
  },
  {
   "cell_type": "code",
   "execution_count": null,
   "metadata": {},
   "outputs": [
    {
     "data": {
      "text/html": [
       "<div>\n",
       "<style scoped>\n",
       "    .dataframe tbody tr th:only-of-type {\n",
       "        vertical-align: middle;\n",
       "    }\n",
       "\n",
       "    .dataframe tbody tr th {\n",
       "        vertical-align: top;\n",
       "    }\n",
       "\n",
       "    .dataframe thead th {\n",
       "        text-align: right;\n",
       "    }\n",
       "</style>\n",
       "<table border=\"1\" class=\"dataframe\">\n",
       "  <thead>\n",
       "    <tr style=\"text-align: right;\">\n",
       "      <th></th>\n",
       "      <th>0</th>\n",
       "    </tr>\n",
       "  </thead>\n",
       "  <tbody>\n",
       "    <tr>\n",
       "      <th>0</th>\n",
       "      <td>15.726799</td>\n",
       "    </tr>\n",
       "    <tr>\n",
       "      <th>1</th>\n",
       "      <td>15.695337</td>\n",
       "    </tr>\n",
       "    <tr>\n",
       "      <th>2</th>\n",
       "      <td>15.484573</td>\n",
       "    </tr>\n",
       "    <tr>\n",
       "      <th>3</th>\n",
       "      <td>15.291053</td>\n",
       "    </tr>\n",
       "    <tr>\n",
       "      <th>4</th>\n",
       "      <td>15.113180</td>\n",
       "    </tr>\n",
       "    <tr>\n",
       "      <th>...</th>\n",
       "      <td>...</td>\n",
       "    </tr>\n",
       "    <tr>\n",
       "      <th>95</th>\n",
       "      <td>0.482967</td>\n",
       "    </tr>\n",
       "    <tr>\n",
       "      <th>96</th>\n",
       "      <td>0.451148</td>\n",
       "    </tr>\n",
       "    <tr>\n",
       "      <th>97</th>\n",
       "      <td>0.421517</td>\n",
       "    </tr>\n",
       "    <tr>\n",
       "      <th>98</th>\n",
       "      <td>0.393788</td>\n",
       "    </tr>\n",
       "    <tr>\n",
       "      <th>99</th>\n",
       "      <td>0.367055</td>\n",
       "    </tr>\n",
       "  </tbody>\n",
       "</table>\n",
       "<p>100 rows × 1 columns</p>\n",
       "</div>"
      ],
      "text/plain": [
       "            0\n",
       "0   15.726799\n",
       "1   15.695337\n",
       "2   15.484573\n",
       "3   15.291053\n",
       "4   15.113180\n",
       "..        ...\n",
       "95   0.482967\n",
       "96   0.451148\n",
       "97   0.421517\n",
       "98   0.393788\n",
       "99   0.367055\n",
       "\n",
       "[100 rows x 1 columns]"
      ]
     },
     "execution_count": 57,
     "metadata": {},
     "output_type": "execute_result"
    }
   ],
   "source": [
    "pd.DataFrame(evaluation_scores)"
   ]
  }
 ],
 "metadata": {
  "kernelspec": {
   "display_name": "Python 3",
   "language": "python",
   "name": "python3"
  },
  "language_info": {
   "codemirror_mode": {
    "name": "ipython",
    "version": 3
   },
   "file_extension": ".py",
   "mimetype": "text/x-python",
   "name": "python",
   "nbconvert_exporter": "python",
   "pygments_lexer": "ipython3",
   "version": "3.11.9"
  }
 },
 "nbformat": 4,
 "nbformat_minor": 2
}
