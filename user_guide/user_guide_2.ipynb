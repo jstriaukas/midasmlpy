{
 "cells": [
  {
   "cell_type": "markdown",
   "metadata": {},
   "source": [
    "## Import packages used"
   ]
  },
  {
   "cell_type": "code",
   "execution_count": 108,
   "metadata": {},
   "outputs": [],
   "source": [
    "import numpy as np\n",
    "import pandas as pd\n",
    "import midasmlpy.date_functions as datef # used to handle different frequencies of data and to create lags\n",
    "import midasmlpy.sparse_group_lasso as sgl\n",
    "from sklearn.model_selection import train_test_split"
   ]
  },
  {
   "cell_type": "markdown",
   "metadata": {},
   "source": [
    "## Load data"
   ]
  },
  {
   "cell_type": "markdown",
   "metadata": {},
   "source": [
    "Load data from excel"
   ]
  },
  {
   "cell_type": "code",
   "execution_count": 109,
   "metadata": {},
   "outputs": [],
   "source": [
    "import os\n",
    "\n",
    "# load data from xlsx files and create a dataFrame\n",
    "Predictors = pd.read_excel(os.path.abspath('predictors-monthly.xlsx')).to_numpy()\n",
    "Target = pd.read_excel(os.path.abspath('gdp-quarterly.xlsx')).to_numpy()"
   ]
  },
  {
   "cell_type": "markdown",
   "metadata": {},
   "source": [
    "Split data into dates and data tables"
   ]
  },
  {
   "cell_type": "code",
   "execution_count": 110,
   "metadata": {},
   "outputs": [],
   "source": [
    "# Y data and X and Y dates can also be defined as they are the same for all iterations\n",
    "Y_date = Target[:,0]\n",
    "Y = Target[:,1]\n",
    "X_date = Predictors[:,0]\n",
    "X = Predictors[:,1:]"
   ]
  },
  {
   "cell_type": "markdown",
   "metadata": {},
   "source": [
    "## Transform data using functions from data_functions"
   ]
  },
  {
   "cell_type": "markdown",
   "metadata": {},
   "source": [
    "Define variables ued in transformation"
   ]
  },
  {
   "cell_type": "code",
   "execution_count": 111,
   "metadata": {},
   "outputs": [],
   "source": [
    "# Lag variables\n",
    "x_lags = 3\n",
    "y_lags = 0\n",
    "horizon = 0\n",
    "\n",
    "# Legendre matrix\n",
    "degree = 4 # 3 degrees + polynomial 0"
   ]
  },
  {
   "cell_type": "markdown",
   "metadata": {},
   "source": [
    "Call data transformation function"
   ]
  },
  {
   "cell_type": "code",
   "execution_count": 112,
   "metadata": {},
   "outputs": [],
   "source": [
    "transformed_data = datef.data_transform(Y, Y_date, X, X_date, x_lags, y_lags, horizon, degree=degree, standardize=True)"
   ]
  },
  {
   "cell_type": "code",
   "execution_count": 113,
   "metadata": {},
   "outputs": [],
   "source": [
    "X = transformed_data['X_tilde']\n",
    "y = transformed_data['Y']\n",
    "\n",
    "# Split x and y into a 80/20 train test split\n",
    "X_train, X_test, y_train, y_test = train_test_split(X, y, test_size=0.20, random_state=42)"
   ]
  },
  {
   "cell_type": "markdown",
   "metadata": {},
   "source": [
    "## sgLasso gaussian"
   ]
  },
  {
   "cell_type": "code",
   "execution_count": 114,
   "metadata": {},
   "outputs": [
    {
     "name": "stdout",
     "output_type": "stream",
     "text": [
      "The performance at different values of alpha are:\n",
      "{np.float64(1.0): np.float64(28.32304), np.float64(0.9): np.float64(28.32275), np.float64(0.8): np.float64(28.32294), np.float64(0.7): np.float64(28.32296), np.float64(0.6): np.float64(28.32561), np.float64(0.5): np.float64(28.31837), np.float64(0.3999999999999999): np.float64(28.31288), np.float64(0.29999999999999993): np.float64(28.30532), np.float64(0.19999999999999996): np.float64(28.30512), np.float64(0.09999999999999998): np.float64(28.31985), np.float64(0.0): np.float64(28.33513)}\n",
      "{'best_alsparse': np.float64(1.0), 'best_performance': np.float64(28.323037860465494), 'b0': array([0., 0., 0., 0., 0., 0., 0., 0., 0., 0., 0., 0., 0., 0., 0., 0., 0.,\n",
      "       0., 0., 0., 0., 0., 0., 0., 0., 0., 0., 0., 0., 0., 0., 0., 0., 0.,\n",
      "       0., 0., 0., 0., 0., 0., 0., 0., 0., 0., 0., 0., 0., 0., 0., 0., 0.,\n",
      "       0., 0., 0., 0., 0., 0., 0., 0., 0., 0., 0., 0., 0., 0., 0., 0., 0.,\n",
      "       0., 0., 0., 0., 0., 0., 0., 0., 0., 0., 0., 0., 0., 0., 0., 0., 0.,\n",
      "       0., 0., 0., 0., 0., 0., 0., 0., 0., 0., 0., 0., 0., 0., 0.]), 'beta': array([[ 0.,  0.,  0., ..., -0., -0., -0.],\n",
      "       [ 0.,  0.,  0., ..., -0., -0., -0.],\n",
      "       [ 0.,  0.,  0., ...,  0.,  0.,  0.],\n",
      "       ...,\n",
      "       [ 0.,  0.,  0., ...,  0.,  0.,  0.],\n",
      "       [ 0.,  0.,  0., ...,  0.,  0.,  0.],\n",
      "       [ 0.,  0.,  0., ...,  0.,  0.,  0.]]), 'best_lambda': np.float64(5.080352448684267), 'best_beta': (array([ 14,  14,  14, ..., 482, 482, 482]), array([51, 52, 53, ..., 97, 98, 99]))}\n"
     ]
    }
   ],
   "source": [
    "# Call the function\n",
    "model2 = sgl.best_model(x=X_train, y=y_train, group_size=degree, family='gaussian', nlam=100, pmax=122, intr=False, k_folds=3, disp_flag=True, alpha_values=11, alpha=None)\n",
    "\n",
    "print(model2)"
   ]
  },
  {
   "cell_type": "code",
   "execution_count": 115,
   "metadata": {},
   "outputs": [
    {
     "name": "stdout",
     "output_type": "stream",
     "text": [
      "[0.00266702 0.01633554 0.03218684 ... 0.12943595 0.13232512 0.13472035]\n",
      "(3060,)\n"
     ]
    }
   ],
   "source": [
    "# Get the best beta values\n",
    "best_beta_values = model2['beta'][model2['best_beta']]\n",
    "best_beta_shape = model2['beta'][model2['best_beta']].shape\n",
    "print(best_beta_values)\n",
    "print(best_beta_shape)"
   ]
  },
  {
   "cell_type": "code",
   "execution_count": 117,
   "metadata": {},
   "outputs": [
    {
     "data": {
      "text/plain": [
       "np.float64(28.323037860465494)"
      ]
     },
     "execution_count": 117,
     "metadata": {},
     "output_type": "execute_result"
    }
   ],
   "source": [
    "model2['best_performance']"
   ]
  },
  {
   "cell_type": "code",
   "execution_count": 118,
   "metadata": {},
   "outputs": [],
   "source": [
    "x = X_train\n",
    "y = y_train\n",
    "group_size = degree\n",
    "family = 'gaussian'\n",
    "nlam = 100\n",
    "pmax = 122\n",
    "intr = False\n",
    "k_folds = 3\n",
    "disp_flag = True\n",
    "alpha_values = 11\n",
    "alpha = None\n",
    "alsparse = 0.5"
   ]
  },
  {
   "cell_type": "code",
   "execution_count": 119,
   "metadata": {},
   "outputs": [],
   "source": [
    "from sklearn.model_selection import StratifiedKFold, KFold\n",
    "\n",
    "# Find model nlam number of models\n",
    "b0, beta, alam, npass, jerr, mse = sgl.sgLASSO_estimation(x, y, group_size, alsparse, family, pmax, intr)\n",
    "\n",
    "# Find mean performance for each lambda\n",
    "# Split the data into k_folds\n",
    "if family == 'binomial':\n",
    "    kf = StratifiedKFold(n_splits=k_folds, shuffle=True, random_state=42)\n",
    "if family == 'gaussian':   \n",
    "    kf = KFold(n_splits=k_folds, shuffle=True, random_state=42)\n",
    "\n",
    "# initialize performance list\n",
    "performance = []\n",
    "for train_index, test_index in kf.split(x,y):\n",
    "    # Based on the split, create the training and test data for this fold\n",
    "    x_train, x_test = x[train_index], x[test_index]\n",
    "    y_train, y_test = y[train_index], y[test_index]\n",
    "    # Estimate the model on the training data\n",
    "    b0_test, beta_test, alam, npass, jerr, mse_test = sgl.sgLASSO_estimation(x_train, y_train, group_size, alsparse, family, pmax, intr, ulam=alam)\n",
    "    if family == 'gaussian':\n",
    "        performance.append(sgl.evaluate_gaussian(x_test, y_test, b0_test, beta_test, intr=False, eval='mse'))\n",
    "    if family == 'binomial':\n",
    "        performance.append(sgl.evaluate_binomials(x_test, y_test, b0_test, beta_test, intr=False, eval='auc', threshold=0.5))\n",
    "\n",
    "performance = np.array(performance)\n",
    "mean_performance = np.mean(performance, axis=0)\n",
    "if family == 'binomial':\n",
    "    best_lambda = np.argmax(mean_performance)\n",
    "if family == 'gaussian':\n",
    "    best_lambda = np.argmin(mean_performance)"
   ]
  },
  {
   "cell_type": "code",
   "execution_count": 120,
   "metadata": {},
   "outputs": [
    {
     "data": {
      "text/plain": [
       "array([28.26838518, 28.28011485, 28.37724124, 28.50389207, 28.63417447,\n",
       "       28.77692044, 28.93964735, 29.12136597, 29.279358  , 29.4421717 ,\n",
       "       29.55579606, 29.65752807, 29.81983072, 29.9954351 , 30.17946564,\n",
       "       30.34987428, 30.52935536, 30.6942738 , 30.87604281, 31.06752714,\n",
       "       31.266835  , 31.47846996, 31.62354462, 31.79415347, 31.97093137,\n",
       "       32.02652478, 32.10643163, 32.24052474, 32.41381407, 32.65802225,\n",
       "       32.94359855, 33.26107897, 33.62329184, 33.99951126, 34.36166634,\n",
       "       34.73210698, 35.07714045, 35.43574149, 35.79903252, 36.17512073,\n",
       "       36.5718271 , 36.95989077, 37.37092327, 37.80609898, 38.28181913,\n",
       "       38.72842259, 39.17234052, 39.67856547, 40.19166741, 40.70706755,\n",
       "       41.21599602, 41.72007536, 42.21475208, 42.70359803, 43.16211098,\n",
       "       43.61558334, 44.06268855, 44.53326322, 44.98530107, 45.43346776,\n",
       "       45.82135061, 46.22498236, 46.62338801, 47.01842057, 47.36018073,\n",
       "       47.67935484, 47.98443286, 48.27467287, 48.57308514, 48.8729561 ,\n",
       "       49.13940564, 49.339747  , 49.56005972, 49.75584278, 49.93622222,\n",
       "       50.10166056, 50.23164711, 50.32289726, 50.42160493, 50.52741424,\n",
       "       50.65057264, 50.81823253, 50.98900117, 51.17674023, 51.37513303,\n",
       "       51.56761046, 51.74349697, 51.91124466, 52.07406851, 52.25827792,\n",
       "       52.4443788 , 52.63464564, 52.80748693, 52.99360554, 53.15611212,\n",
       "       53.3132072 , 53.46656055, 53.60832481, 53.7411339 , 53.87998308])"
      ]
     },
     "execution_count": 120,
     "metadata": {},
     "output_type": "execute_result"
    }
   ],
   "source": [
    "mean_performance"
   ]
  },
  {
   "cell_type": "code",
   "execution_count": 121,
   "metadata": {},
   "outputs": [
    {
     "data": {
      "text/plain": [
       "np.float64(28.26838517629615)"
      ]
     },
     "execution_count": 121,
     "metadata": {},
     "output_type": "execute_result"
    }
   ],
   "source": [
    "mean_performance[best_lambda]"
   ]
  },
  {
   "cell_type": "code",
   "execution_count": 122,
   "metadata": {},
   "outputs": [
    {
     "data": {
      "text/plain": [
       "np.int64(0)"
      ]
     },
     "execution_count": 122,
     "metadata": {},
     "output_type": "execute_result"
    }
   ],
   "source": [
    "np.argmin(mean_performance)"
   ]
  },
  {
   "cell_type": "code",
   "execution_count": 123,
   "metadata": {},
   "outputs": [],
   "source": [
    "x = transformed_data['X_tilde']\n",
    "y = transformed_data['Y']\n",
    "\n",
    "# # Split x and y into a 80/20 train test split\n",
    "X_train, X_test, y_train, y_test = train_test_split(X, y, test_size=0.20, random_state=42)"
   ]
  },
  {
   "cell_type": "markdown",
   "metadata": {},
   "source": [
    "Evaluating the gaussian test data"
   ]
  },
  {
   "cell_type": "code",
   "execution_count": 124,
   "metadata": {},
   "outputs": [],
   "source": [
    "b0, beta, alam, npass, jerr, mse = sgl.sgLASSO_estimation(X_test, y_test, group_size, alsparse, family, pmax, intr)\n",
    "evaluation_scores = sgl.evaluate_gaussian(X_test, y_test, b0, beta, intr=False, eval='mse')"
   ]
  },
  {
   "cell_type": "code",
   "execution_count": 125,
   "metadata": {},
   "outputs": [
    {
     "name": "stdout",
     "output_type": "stream",
     "text": [
      "100\n"
     ]
    }
   ],
   "source": [
    "print(len(evaluation_scores))"
   ]
  },
  {
   "cell_type": "code",
   "execution_count": 126,
   "metadata": {},
   "outputs": [
    {
     "data": {
      "text/plain": [
       "[np.float64(16.113010112194285),\n",
       " np.float64(16.06603033295657),\n",
       " np.float64(15.75185112559228),\n",
       " np.float64(15.313694113310765),\n",
       " np.float64(14.89759317782088),\n",
       " np.float64(14.518133477326318),\n",
       " np.float64(14.171977343677225),\n",
       " np.float64(13.856078330911695),\n",
       " np.float64(13.567655036027281),\n",
       " np.float64(13.304167082139452),\n",
       " np.float64(13.063293694078824),\n",
       " np.float64(12.842915322415537),\n",
       " np.float64(12.519770916781562),\n",
       " np.float64(12.212446940620525),\n",
       " np.float64(11.932027812310228),\n",
       " np.float64(11.676061936365041),\n",
       " np.float64(11.442311711839292),\n",
       " np.float64(11.228211088400176),\n",
       " np.float64(11.030452280794062),\n",
       " np.float64(10.847243699558273),\n",
       " np.float64(10.57970785390325),\n",
       " np.float64(10.25163707265923),\n",
       " np.float64(9.93852359880164),\n",
       " np.float64(9.5858011801479),\n",
       " np.float64(9.26016434320158),\n",
       " np.float64(8.954031366233467),\n",
       " np.float64(8.664277235758094),\n",
       " np.float64(8.305168462733388),\n",
       " np.float64(7.912597167784603),\n",
       " np.float64(7.54551561033803),\n",
       " np.float64(7.197705616078076),\n",
       " np.float64(6.822798827780988),\n",
       " np.float64(6.432787696648677),\n",
       " np.float64(6.044312986784702),\n",
       " np.float64(5.706939663215749),\n",
       " np.float64(5.4133055740702565),\n",
       " np.float64(5.101128691878439),\n",
       " np.float64(4.806147582700816),\n",
       " np.float64(4.522717451336679),\n",
       " np.float64(4.242391702359352),\n",
       " np.float64(3.963817944417587),\n",
       " np.float64(3.6976108444742564),\n",
       " np.float64(3.4375285903535135),\n",
       " np.float64(3.193091303775319),\n",
       " np.float64(2.965096601169489),\n",
       " np.float64(2.7528100891221143),\n",
       " np.float64(2.5551728417361623),\n",
       " np.float64(2.366464422331399),\n",
       " np.float64(2.192779420925522),\n",
       " np.float64(2.032593094336255),\n",
       " np.float64(1.8850479695940774),\n",
       " np.float64(1.7491882630635844),\n",
       " np.float64(1.6241122919928195),\n",
       " np.float64(1.5087547037815365),\n",
       " np.float64(1.4024868616102588),\n",
       " np.float64(1.3046181513395125),\n",
       " np.float64(1.2076797571935833),\n",
       " np.float64(1.1160863592860595),\n",
       " np.float64(1.031699295065716),\n",
       " np.float64(0.9517489247236579),\n",
       " np.float64(0.8816189496315058),\n",
       " np.float64(0.8169522378678143),\n",
       " np.float64(0.7573056373281173),\n",
       " np.float64(0.7028281748617039),\n",
       " np.float64(0.653065320913862),\n",
       " np.float64(0.6073287844162178),\n",
       " np.float64(0.5633601056391493),\n",
       " np.float64(0.520738885169181),\n",
       " np.float64(0.4809244047935872),\n",
       " np.float64(0.44039352140084836),\n",
       " np.float64(0.40324002946858095),\n",
       " np.float64(0.36919277599330463),\n",
       " np.float64(0.33799777560200983),\n",
       " np.float64(0.30946104284516746),\n",
       " np.float64(0.2829211769643149),\n",
       " np.float64(0.2584532887354481),\n",
       " np.float64(0.23600356948526519),\n",
       " np.float64(0.21552931574050885),\n",
       " np.float64(0.1968127191704273),\n",
       " np.float64(0.17971916530570636),\n",
       " np.float64(0.16410766474894053),\n",
       " np.float64(0.1498501857371549),\n",
       " np.float64(0.13682950466357358),\n",
       " np.float64(0.12492770252522652),\n",
       " np.float64(0.11395749645827716),\n",
       " np.float64(0.10399992303935839),\n",
       " np.float64(0.09493894942376369),\n",
       " np.float64(0.08666425802970522),\n",
       " np.float64(0.07910755373594883),\n",
       " np.float64(0.0722066878979819),\n",
       " np.float64(0.06590494035864498),\n",
       " np.float64(0.060149395564149125),\n",
       " np.float64(0.05488779565031182),\n",
       " np.float64(0.05007660471083244),\n",
       " np.float64(0.045683609376444625),\n",
       " np.float64(0.04167384341831169),\n",
       " np.float64(0.038013775509849225),\n",
       " np.float64(0.034670969321561405),\n",
       " np.float64(0.03161965766727918),\n",
       " np.float64(0.028836135447407985)]"
      ]
     },
     "execution_count": 126,
     "metadata": {},
     "output_type": "execute_result"
    }
   ],
   "source": [
    "evaluation_scores"
   ]
  },
  {
   "cell_type": "code",
   "execution_count": 127,
   "metadata": {},
   "outputs": [
    {
     "data": {
      "text/html": [
       "<div>\n",
       "<style scoped>\n",
       "    .dataframe tbody tr th:only-of-type {\n",
       "        vertical-align: middle;\n",
       "    }\n",
       "\n",
       "    .dataframe tbody tr th {\n",
       "        vertical-align: top;\n",
       "    }\n",
       "\n",
       "    .dataframe thead th {\n",
       "        text-align: right;\n",
       "    }\n",
       "</style>\n",
       "<table border=\"1\" class=\"dataframe\">\n",
       "  <thead>\n",
       "    <tr style=\"text-align: right;\">\n",
       "      <th></th>\n",
       "      <th>0</th>\n",
       "    </tr>\n",
       "  </thead>\n",
       "  <tbody>\n",
       "    <tr>\n",
       "      <th>0</th>\n",
       "      <td>16.113010</td>\n",
       "    </tr>\n",
       "    <tr>\n",
       "      <th>1</th>\n",
       "      <td>16.066030</td>\n",
       "    </tr>\n",
       "    <tr>\n",
       "      <th>2</th>\n",
       "      <td>15.751851</td>\n",
       "    </tr>\n",
       "    <tr>\n",
       "      <th>3</th>\n",
       "      <td>15.313694</td>\n",
       "    </tr>\n",
       "    <tr>\n",
       "      <th>4</th>\n",
       "      <td>14.897593</td>\n",
       "    </tr>\n",
       "    <tr>\n",
       "      <th>...</th>\n",
       "      <td>...</td>\n",
       "    </tr>\n",
       "    <tr>\n",
       "      <th>95</th>\n",
       "      <td>0.041674</td>\n",
       "    </tr>\n",
       "    <tr>\n",
       "      <th>96</th>\n",
       "      <td>0.038014</td>\n",
       "    </tr>\n",
       "    <tr>\n",
       "      <th>97</th>\n",
       "      <td>0.034671</td>\n",
       "    </tr>\n",
       "    <tr>\n",
       "      <th>98</th>\n",
       "      <td>0.031620</td>\n",
       "    </tr>\n",
       "    <tr>\n",
       "      <th>99</th>\n",
       "      <td>0.028836</td>\n",
       "    </tr>\n",
       "  </tbody>\n",
       "</table>\n",
       "<p>100 rows × 1 columns</p>\n",
       "</div>"
      ],
      "text/plain": [
       "            0\n",
       "0   16.113010\n",
       "1   16.066030\n",
       "2   15.751851\n",
       "3   15.313694\n",
       "4   14.897593\n",
       "..        ...\n",
       "95   0.041674\n",
       "96   0.038014\n",
       "97   0.034671\n",
       "98   0.031620\n",
       "99   0.028836\n",
       "\n",
       "[100 rows x 1 columns]"
      ]
     },
     "execution_count": 127,
     "metadata": {},
     "output_type": "execute_result"
    }
   ],
   "source": [
    "pd.DataFrame(evaluation_scores)"
   ]
  }
 ],
 "metadata": {
  "kernelspec": {
   "display_name": "Python 3",
   "language": "python",
   "name": "python3"
  },
  "language_info": {
   "codemirror_mode": {
    "name": "ipython",
    "version": 3
   },
   "file_extension": ".py",
   "mimetype": "text/x-python",
   "name": "python",
   "nbconvert_exporter": "python",
   "pygments_lexer": "ipython3",
   "version": "3.11.9"
  }
 },
 "nbformat": 4,
 "nbformat_minor": 2
}
