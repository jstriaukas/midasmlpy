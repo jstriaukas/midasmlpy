{
 "cells": [
  {
   "cell_type": "markdown",
   "metadata": {},
   "source": [
    "## Import packages used"
   ]
  },
  {
   "cell_type": "code",
   "execution_count": 1,
   "metadata": {},
   "outputs": [],
   "source": [
    "import numpy as np\n",
    "import pandas as pd\n",
    "import midasmlpy.date_functions as datef # used to handle different frequencies of data and to create lags\n",
    "import midasmlpy.sparse_group_lasso as sgl # used to run the sparse group lasso and related functions"
   ]
  },
  {
   "cell_type": "markdown",
   "metadata": {},
   "source": [
    "## Load data"
   ]
  },
  {
   "cell_type": "markdown",
   "metadata": {},
   "source": [
    "Load data from excel"
   ]
  },
  {
   "cell_type": "code",
   "execution_count": 2,
   "metadata": {},
   "outputs": [],
   "source": [
    "# load data from xlsx files and create a dataframe\n",
    "Predictors = pd.read_excel('/Users/m.egelundmuller/Documents/GitHub/midasmlpy/user_guide/predictors-monthly.xlsx').to_numpy()\n",
    "Target = pd.read_excel('/Users/m.egelundmuller/Documents/GitHub/midasmlpy/user_guide/recessions-quarterly.xlsx').to_numpy()"
   ]
  },
  {
   "cell_type": "markdown",
   "metadata": {},
   "source": [
    "Split data into dates and data tables"
   ]
  },
  {
   "cell_type": "code",
   "execution_count": 3,
   "metadata": {},
   "outputs": [],
   "source": [
    "# Y data and X and Y dates can also be defined as they are the same for all iterations\n",
    "Y_date = Target[:,0]\n",
    "Y = Target[:,1]\n",
    "X_date = Predictors[:,0]\n",
    "X = Predictors[:,1:]"
   ]
  },
  {
   "cell_type": "markdown",
   "metadata": {},
   "source": [
    "## Transform data using functions from data_functions"
   ]
  },
  {
   "cell_type": "markdown",
   "metadata": {},
   "source": [
    "Define variables ued in transformation"
   ]
  },
  {
   "cell_type": "code",
   "execution_count": 4,
   "metadata": {},
   "outputs": [],
   "source": [
    "# Lag variables\n",
    "x_lags = 3\n",
    "y_lags = 0\n",
    "horizon = 0\n",
    "\n",
    "# Legendre matrix\n",
    "legendre_degree = 4 # 3 degrees + polynomial 0"
   ]
  },
  {
   "cell_type": "markdown",
   "metadata": {},
   "source": [
    "Call data transformation function"
   ]
  },
  {
   "cell_type": "code",
   "execution_count": 5,
   "metadata": {},
   "outputs": [],
   "source": [
    "transformed_data = datef.data_transform(Y, Y_date, X, X_date, x_lags, y_lags, horizon, legendre_degree=legendre_degree, standardize = True)"
   ]
  },
  {
   "cell_type": "markdown",
   "metadata": {},
   "source": [
    "## sgLasso binomial"
   ]
  },
  {
   "cell_type": "code",
   "execution_count": 6,
   "metadata": {},
   "outputs": [
    {
     "name": "stdout",
     "output_type": "stream",
     "text": [
      "The performance at different values of alpha are:\n",
      "{1.0: 0.51442, 0.9: 0.51442, 0.8: 0.51442, 0.7: 0.51442, 0.6: 0.52257, 0.5: 0.56304, 0.3999999999999999: 0.59239, 0.29999999999999993: 0.62536, 0.19999999999999996: 0.62971, 0.09999999999999998: 0.60453, 0.0: 0.60018}\n"
     ]
    }
   ],
   "source": [
    "x = transformed_data['X_tilde']\n",
    "y = transformed_data['Y']\n",
    "\n",
    "# # Split x and y into a 80/20 train test split\n",
    "train_size = int(0.8*x.shape[0])\n",
    "x_train, x_test = x[:train_size], x[train_size:]\n",
    "y_train, y_test = y[:train_size], y[train_size:]\n",
    "family = 'binomial'\n",
    "\n",
    "# Run the sparse group lasso\n",
    "model = sgl.best_model(x = x_train, y = y_train, group_size = legendre_degree, family = family, nlam = 100, pmax = 122, intr = False, k_folds = 5, disp_flag = True, alpha_values = 11, alpha = None)"
   ]
  },
  {
   "cell_type": "code",
   "execution_count": 7,
   "metadata": {},
   "outputs": [
    {
     "name": "stdout",
     "output_type": "stream",
     "text": [
      "The performance at different values of alpha are:\n",
      "{0.175: 0.63388, 0.15: 0.62953, 0.125: 0.60453, 0.075: 0.60453, 0.05: 0.60036, 0.025: 0.60018}\n"
     ]
    }
   ],
   "source": [
    "model_alphaspecified = sgl.best_model(x = x_train, y = y_train, group_size = legendre_degree, family = family, nlam = 100, pmax = 122, intr = False, k_folds = 5, disp_flag = True, alpha_values = None, alpha = (0.175,0.15,0.125,0.075,0.05,0.025))"
   ]
  },
  {
   "cell_type": "code",
   "execution_count": 8,
   "metadata": {},
   "outputs": [
    {
     "data": {
      "text/html": [
       "<div>\n",
       "<style scoped>\n",
       "    .dataframe tbody tr th:only-of-type {\n",
       "        vertical-align: middle;\n",
       "    }\n",
       "\n",
       "    .dataframe tbody tr th {\n",
       "        vertical-align: top;\n",
       "    }\n",
       "\n",
       "    .dataframe thead th {\n",
       "        text-align: right;\n",
       "    }\n",
       "</style>\n",
       "<table border=\"1\" class=\"dataframe\">\n",
       "  <thead>\n",
       "    <tr style=\"text-align: right;\">\n",
       "      <th></th>\n",
       "      <th>0</th>\n",
       "    </tr>\n",
       "  </thead>\n",
       "  <tbody>\n",
       "    <tr>\n",
       "      <th>1.00</th>\n",
       "      <td>-0.010222</td>\n",
       "    </tr>\n",
       "    <tr>\n",
       "      <th>1.25</th>\n",
       "      <td>-0.004834</td>\n",
       "    </tr>\n",
       "    <tr>\n",
       "      <th>1.50</th>\n",
       "      <td>-0.006995</td>\n",
       "    </tr>\n",
       "    <tr>\n",
       "      <th>1.75</th>\n",
       "      <td>-0.020859</td>\n",
       "    </tr>\n",
       "    <tr>\n",
       "      <th>14.25</th>\n",
       "      <td>0.000594</td>\n",
       "    </tr>\n",
       "    <tr>\n",
       "      <th>14.50</th>\n",
       "      <td>0.002163</td>\n",
       "    </tr>\n",
       "    <tr>\n",
       "      <th>14.75</th>\n",
       "      <td>-0.000944</td>\n",
       "    </tr>\n",
       "    <tr>\n",
       "      <th>19.00</th>\n",
       "      <td>-0.010817</td>\n",
       "    </tr>\n",
       "    <tr>\n",
       "      <th>19.75</th>\n",
       "      <td>0.053351</td>\n",
       "    </tr>\n",
       "    <tr>\n",
       "      <th>36.00</th>\n",
       "      <td>-0.206776</td>\n",
       "    </tr>\n",
       "    <tr>\n",
       "      <th>36.25</th>\n",
       "      <td>0.003289</td>\n",
       "    </tr>\n",
       "    <tr>\n",
       "      <th>36.50</th>\n",
       "      <td>-0.170720</td>\n",
       "    </tr>\n",
       "    <tr>\n",
       "      <th>44.00</th>\n",
       "      <td>-0.155757</td>\n",
       "    </tr>\n",
       "    <tr>\n",
       "      <th>44.50</th>\n",
       "      <td>-0.091776</td>\n",
       "    </tr>\n",
       "    <tr>\n",
       "      <th>44.75</th>\n",
       "      <td>0.099560</td>\n",
       "    </tr>\n",
       "    <tr>\n",
       "      <th>69.00</th>\n",
       "      <td>-0.000543</td>\n",
       "    </tr>\n",
       "    <tr>\n",
       "      <th>69.25</th>\n",
       "      <td>-0.083658</td>\n",
       "    </tr>\n",
       "    <tr>\n",
       "      <th>69.50</th>\n",
       "      <td>0.116458</td>\n",
       "    </tr>\n",
       "    <tr>\n",
       "      <th>69.75</th>\n",
       "      <td>-0.011434</td>\n",
       "    </tr>\n",
       "    <tr>\n",
       "      <th>90.00</th>\n",
       "      <td>-0.011145</td>\n",
       "    </tr>\n",
       "    <tr>\n",
       "      <th>90.25</th>\n",
       "      <td>0.030422</td>\n",
       "    </tr>\n",
       "    <tr>\n",
       "      <th>90.50</th>\n",
       "      <td>0.005488</td>\n",
       "    </tr>\n",
       "    <tr>\n",
       "      <th>90.75</th>\n",
       "      <td>-0.014759</td>\n",
       "    </tr>\n",
       "    <tr>\n",
       "      <th>106.00</th>\n",
       "      <td>-0.002737</td>\n",
       "    </tr>\n",
       "    <tr>\n",
       "      <th>106.50</th>\n",
       "      <td>0.000019</td>\n",
       "    </tr>\n",
       "  </tbody>\n",
       "</table>\n",
       "</div>"
      ],
      "text/plain": [
       "               0\n",
       "1.00   -0.010222\n",
       "1.25   -0.004834\n",
       "1.50   -0.006995\n",
       "1.75   -0.020859\n",
       "14.25   0.000594\n",
       "14.50   0.002163\n",
       "14.75  -0.000944\n",
       "19.00  -0.010817\n",
       "19.75   0.053351\n",
       "36.00  -0.206776\n",
       "36.25   0.003289\n",
       "36.50  -0.170720\n",
       "44.00  -0.155757\n",
       "44.50  -0.091776\n",
       "44.75   0.099560\n",
       "69.00  -0.000543\n",
       "69.25  -0.083658\n",
       "69.50   0.116458\n",
       "69.75  -0.011434\n",
       "90.00  -0.011145\n",
       "90.25   0.030422\n",
       "90.50   0.005488\n",
       "90.75  -0.014759\n",
       "106.00 -0.002737\n",
       "106.50  0.000019"
      ]
     },
     "execution_count": 8,
     "metadata": {},
     "output_type": "execute_result"
    }
   ],
   "source": [
    "pd.DataFrame(model_alphaspecified['beta']).set_index(pd.DataFrame(model_alphaspecified['beta']).index / 4).loc[model_alphaspecified['beta']!=0]\n",
    "# # Show column names of column 3,4,7,8 of pred\n",
    "# pred.columns[[2,15,20,36,45,70,91,107]]\n",
    "# model_alphaspecified"
   ]
  },
  {
   "cell_type": "code",
   "execution_count": 10,
   "metadata": {},
   "outputs": [
    {
     "ename": "TypeError",
     "evalue": "object of type 'numpy.float64' has no len()",
     "output_type": "error",
     "traceback": [
      "\u001b[0;31m---------------------------------------------------------------------------\u001b[0m",
      "\u001b[0;31mTypeError\u001b[0m                                 Traceback (most recent call last)",
      "Cell \u001b[0;32mIn[10], line 1\u001b[0m\n\u001b[0;32m----> 1\u001b[0m \u001b[43msgl\u001b[49m\u001b[38;5;241;43m.\u001b[39;49m\u001b[43mevaluate_binomials\u001b[49m\u001b[43m(\u001b[49m\u001b[43mx_test\u001b[49m\u001b[43m,\u001b[49m\u001b[43m \u001b[49m\u001b[43my_test\u001b[49m\u001b[43m,\u001b[49m\u001b[43m \u001b[49m\u001b[43mmodel_alphaspecified\u001b[49m\u001b[43m[\u001b[49m\u001b[38;5;124;43m'\u001b[39;49m\u001b[38;5;124;43mb0\u001b[39;49m\u001b[38;5;124;43m'\u001b[39;49m\u001b[43m]\u001b[49m\u001b[43m,\u001b[49m\u001b[43m \u001b[49m\u001b[43mmodel_alphaspecified\u001b[49m\u001b[43m[\u001b[49m\u001b[38;5;124;43m'\u001b[39;49m\u001b[38;5;124;43mbeta\u001b[39;49m\u001b[38;5;124;43m'\u001b[39;49m\u001b[43m]\u001b[49m\u001b[43m,\u001b[49m\u001b[38;5;28;43meval\u001b[39;49m\u001b[43m \u001b[49m\u001b[38;5;241;43m=\u001b[39;49m\u001b[43m \u001b[49m\u001b[38;5;124;43m'\u001b[39;49m\u001b[38;5;124;43mauc\u001b[39;49m\u001b[38;5;124;43m'\u001b[39;49m\u001b[43m,\u001b[49m\u001b[43m \u001b[49m\u001b[43mthreshold\u001b[49m\u001b[38;5;241;43m=\u001b[39;49m\u001b[38;5;241;43m0.5\u001b[39;49m\u001b[43m)\u001b[49m\n",
      "File \u001b[0;32m/Library/Frameworks/Python.framework/Versions/3.11/lib/python3.11/site-packages/midasmlpy/sparse_group_lasso.py:139\u001b[0m, in \u001b[0;36mevaluate_binomials\u001b[0;34m(x, y, b0, beta, eval, threshold)\u001b[0m\n\u001b[1;32m    124\u001b[0m \u001b[38;5;28;01mdef\u001b[39;00m \u001b[38;5;21mevaluate_binomials\u001b[39m(x, y, b0, beta,\u001b[38;5;28meval\u001b[39m \u001b[38;5;241m=\u001b[39m \u001b[38;5;124m'\u001b[39m\u001b[38;5;124mauc\u001b[39m\u001b[38;5;124m'\u001b[39m, threshold\u001b[38;5;241m=\u001b[39m\u001b[38;5;241m0.5\u001b[39m):\n\u001b[1;32m    125\u001b[0m \u001b[38;5;250m    \u001b[39m\u001b[38;5;124;03m\"\"\"\u001b[39;00m\n\u001b[1;32m    126\u001b[0m \u001b[38;5;124;03m    Evaluate the performance of several logistic regression models using specified metrics for different values of lambda.\u001b[39;00m\n\u001b[1;32m    127\u001b[0m \n\u001b[0;32m   (...)\u001b[0m\n\u001b[1;32m    137\u001b[0m \u001b[38;5;124;03m    - auc_scores (list): If `eval` == 'auc', a list of AUC scores for each model.\u001b[39;00m\n\u001b[1;32m    138\u001b[0m \u001b[38;5;124;03m    \"\"\"\u001b[39;00m\n\u001b[0;32m--> 139\u001b[0m     evaluation_score \u001b[38;5;241m=\u001b[39m [\u001b[38;5;241m0\u001b[39m] \u001b[38;5;241m*\u001b[39m \u001b[38;5;28mlen\u001b[39m(b0)  \u001b[38;5;66;03m# this will store evaluation score\u001b[39;00m\n\u001b[1;32m    140\u001b[0m     \u001b[38;5;28;01mfor\u001b[39;00m l \u001b[38;5;129;01min\u001b[39;00m \u001b[38;5;28mrange\u001b[39m(\u001b[38;5;28mlen\u001b[39m(b0)):\n\u001b[1;32m    141\u001b[0m         probabilities \u001b[38;5;241m=\u001b[39m \u001b[38;5;241m1\u001b[39m \u001b[38;5;241m/\u001b[39m (\u001b[38;5;241m1\u001b[39m \u001b[38;5;241m+\u001b[39m np\u001b[38;5;241m.\u001b[39mexp(\u001b[38;5;241m-\u001b[39mnp\u001b[38;5;241m.\u001b[39mdot(x, beta[:,l]) \u001b[38;5;241m+\u001b[39m b0[l]))\n",
      "\u001b[0;31mTypeError\u001b[0m: object of type 'numpy.float64' has no len()"
     ]
    }
   ],
   "source": [
    "sgl.evaluate_binomials(x_test, y_test, model_alphaspecified['b0'], model_alphaspecified['beta'],eval = 'auc', threshold=0.5)"
   ]
  }
 ],
 "metadata": {
  "kernelspec": {
   "display_name": "Python 3",
   "language": "python",
   "name": "python3"
  },
  "language_info": {
   "codemirror_mode": {
    "name": "ipython",
    "version": 3
   },
   "file_extension": ".py",
   "mimetype": "text/x-python",
   "name": "python",
   "nbconvert_exporter": "python",
   "pygments_lexer": "ipython3",
   "version": "3.11.9"
  }
 },
 "nbformat": 4,
 "nbformat_minor": 2
}
